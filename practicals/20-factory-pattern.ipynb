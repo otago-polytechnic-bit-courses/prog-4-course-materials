{
 "cells": [
  {
   "cell_type": "markdown",
   "metadata": {},
   "source": [
    "##### College of Engineering, Construction and Living Sciences<br>Bachelor of Information Technology<br>IN628: Programming 4<br>Level 6, Credits 15<br><br>Deadline: Friday, 12 June at 5pm\n",
    "\n",
    "# Practical 20: Factory Pattern\n",
    "\n",
    "In this practical, you will complete a series of tasks covering today's lecture. This practical is worth 1% of the final mark for the Programming 4 course."
   ]
  },
  {
   "cell_type": "code",
   "execution_count": null,
   "metadata": {},
   "outputs": [],
   "source": [
    "%config IPCompleter.greedy=True"
   ]
  },
  {
   "cell_type": "markdown",
   "metadata": {},
   "source": [
    "## Factory Pattern"
   ]
  },
  {
   "cell_type": "markdown",
   "metadata": {},
   "source": [
    "### Transportation\n",
    "**Task 1:**\n",
    "1. Create an interface class called `TransportationFactory` which has an abstract method called `factory_method` & class method called `delivery`. This method should call the `Transportation` subclasses `delivery` method. Remember, this class refers to a separate method to create a product object\n",
    "2. Create a class called `AirplaneFactory` which implements the `TransportationFactory` interface. This required class method returns/creates an `Airplane` object\n",
    "3. Create a class called `TrainFactory` which implements the `TransportationFactory` interface. This required class method returns/creates an `Train` object\n",
    "4. Create an interface class called `Transportation` which has an abstract method called `delivery`\n",
    "5. Create a class called `Airplane` which implements the `Transportation` interface. This required class method returns an airplane emoji - :airplane:\n",
    "6. Create a class called `Train` which implements the `Transportation` interface. This required class method returns a train emoji - :train:\n",
    "\n",
    "Resources - https://pypi.org/project/emoji/"
   ]
  },
  {
   "cell_type": "code",
   "execution_count": null,
   "metadata": {},
   "outputs": [],
   "source": [
    "pip install emoji"
   ]
  },
  {
   "cell_type": "code",
   "execution_count": null,
   "metadata": {},
   "outputs": [],
   "source": [
    "from abc import ABC, abstractmethod\n",
    "from emoji import emojize\n",
    "\n",
    "\n",
    "# Write your TransportationFactory class solution here\n",
    "\n",
    "# Write your AirplaneFactory class solution here\n",
    "\n",
    "# Write your TrainFactory class solution here\n",
    "\n",
    "# Write your Transportation class solution here\n",
    "\n",
    "# Write your Airplane class solution here\n",
    "\n",
    "# Write your Train class solution here\n",
    "\n",
    "\n",
    "def main():\n",
    "    airplane_factory = AirplaneFactory()\n",
    "    train_factory = TrainFactory()\n",
    "    print(airplane_factory.delivery())\n",
    "    print(train_factory.delivery())\n",
    "\n",
    "\n",
    "if __name__ == '__main__':\n",
    "    main()"
   ]
  },
  {
   "cell_type": "markdown",
   "metadata": {},
   "source": [
    "### Transportation Unit Testing\n",
    "**Task 2:** For **each** method in the `TransportationFactory` & `Transportation` classes, create a unit test. Use the `TestTransportation` test case class provided to display the expected output. If you are stuck on the first two unit test, I am looking for the type of instance when the `factory_method()` is called by its factories."
   ]
  },
  {
   "cell_type": "code",
   "execution_count": null,
   "metadata": {},
   "outputs": [],
   "source": [
    "from unittest import TestCase, main\n",
    "\n",
    "\n",
    "class TestTransportation(TestCase):\n",
    "    def setUp(self):\n",
    "        self.airplane_factory = AirplaneFactory()\n",
    "        self.train_factory = TrainFactory()\n",
    "\n",
    "    def test_is_instance_airplane(self):\n",
    "        pass  # Use the is instance assertion\n",
    "\n",
    "    def test_is_instance_train(self):\n",
    "        pass  # Use the is instance assertion\n",
    "\n",
    "    def test_airplane_factory_delivery(self):\n",
    "        pass\n",
    "\n",
    "    def test_train_factory_delivery(self):\n",
    "        pass\n",
    "\n",
    "    def tearDown(self):\n",
    "        self.airplane_factory = None\n",
    "        self.train_factory = None\n",
    "\n",
    "\n",
    "if __name__ == '__main__':\n",
    "    main(argv=[''], verbosity=2, exit=False)\n",
    "\n",
    "    # Expected output:\n",
    "\n",
    "    # test_airplane_factory_delivery (__main__.TestTransportation) ... ok\n",
    "    # test_is_instance_airplane (__main__.TestTransportation) ... ok\n",
    "    # test_is_instance_train (__main__.TestTransportation) ... ok\n",
    "    # test_train_factory_delivery (__main__.TestTransportation) ... ok"
   ]
  },
  {
   "cell_type": "markdown",
   "metadata": {},
   "source": [
    "# Submission\n",
    "1. Create a new branch named 20-checkpoint within your practicals GitHub repository\n",
    "2. Create a new pull request and assign Grayson-Orr to review your submission\n",
    "\n",
    "**Note:** Please don't merge your own pull request."
   ]
  }
 ],
 "metadata": {
  "kernelspec": {
   "display_name": "Python 3",
   "language": "python",
   "name": "python3"
  },
  "language_info": {
   "codemirror_mode": {
    "name": "ipython",
    "version": 3
   },
   "file_extension": ".py",
   "mimetype": "text/x-python",
   "name": "python",
   "nbconvert_exporter": "python",
   "pygments_lexer": "ipython3",
   "version": "3.7.5"
  }
 },
 "nbformat": 4,
 "nbformat_minor": 2
}
