{
 "cells": [
  {
   "cell_type": "markdown",
   "metadata": {},
   "source": [
    "##### College of Engineering, Construction and Living Sciences<br>Bachelor of Information Technology<br>IN628: Programming 4<br>Level 6, Credits 15<br><br>Deadline: Friday, 12 June at 5pm\n",
    "\n",
    "# Practical 22: State Pattern\n",
    "\n",
    "In this practical, you will complete a series of tasks covering today's lecture. This practical is worth 1% of the final mark for the Programming 4 course."
   ]
  },
  {
   "cell_type": "code",
   "execution_count": null,
   "metadata": {},
   "outputs": [],
   "source": [
    "%config IPCompleter.greedy=True"
   ]
  },
  {
   "cell_type": "markdown",
   "metadata": {},
   "source": [
    "## State Pattern"
   ]
  },
  {
   "cell_type": "markdown",
   "metadata": {},
   "source": [
    "### Light Switch\n",
    "**Task 1:** \n",
    "1. Create an abstract base class called `State` with the abstract method `switch`. `switch` takes an argument of `state_context`\n",
    "2. Create a class called `OnState` which implements `State`. `switch` method should change the state context to `OffState` & return **The light switch is off**\n",
    "3. Create a class called `OffState` which implements `State`. `switch` method should change the state context to `OnState` & return **The light switch is on**\n",
    "4. Create a class called `StateContext`. In the constructor the initial state to `OnState`. Create a getter/setter for the state using the `@property` decorator. Add a method called `request` which calls the state's `switch` method"
   ]
  },
  {
   "cell_type": "code",
   "execution_count": null,
   "metadata": {},
   "outputs": [],
   "source": [
    "# Write your class solutions here\n",
    "\n",
    "\n",
    "def main():\n",
    "    state_context = StateContext()\n",
    "    for _ in range(3):\n",
    "        print(state_context.request())\n",
    "\n",
    "\n",
    "if __name__ == '__main__':\n",
    "    main()\n",
    "\n",
    "    # Expected output:\n",
    "\n",
    "    # The light switch is off\n",
    "    # The light switch is on\n",
    "    # The light switch is off"
   ]
  },
  {
   "cell_type": "markdown",
   "metadata": {},
   "source": [
    "### Light Switch Unit Testing\n",
    "**Task 2:** For **each** method in the `OnState` & `OffState` classes, create a unit test. Create a test case class to display the expected output."
   ]
  },
  {
   "cell_type": "code",
   "execution_count": null,
   "metadata": {},
   "outputs": [],
   "source": [
    "# Write your test case solution here\n",
    "\n",
    "if __name__ == '__main__':\n",
    "    main(argv=[''], verbosity=2, exit=False)\n",
    "    \n",
    "    # Expected output:\n",
    "    \n",
    "    # test_off (__main__.TestOnOff) ... ok\n",
    "    # test_on (__main__.TestOnOff) ... ok"
   ]
  },
  {
   "cell_type": "markdown",
   "metadata": {},
   "source": [
    "### Light Switch TKinter\n",
    "**Task 3 - Research:** Using the code from task 1 & the tkinter GUI library, create a window that contains one button. When the user clicks the button, it should call the `StateContext` `request` method. Set the value returned by the `request` method to the button's text value.\n",
    "\n",
    "Resource - https://docs.python.org/3.8/library/tkinter.html"
   ]
  },
  {
   "cell_type": "code",
   "execution_count": null,
   "metadata": {},
   "outputs": [],
   "source": [
    "class Window(Frame):\n",
    "    def __init__(self, master, state_context):\n",
    "        pass\n",
    "\n",
    "    def toggle_light_switch(self):\n",
    "        pass\n",
    "\n",
    "\n",
    "def main():\n",
    "    root = Tk()\n",
    "    state_context = StateContext()\n",
    "    Window(root, state_context)\n",
    "    root.wm_title('Light Switch TKinter')\n",
    "    root.geometry('175x100')\n",
    "    root.mainloop()\n",
    "\n",
    "\n",
    "if __name__ == '__main__':\n",
    "    main()"
   ]
  },
  {
   "cell_type": "markdown",
   "metadata": {},
   "source": [
    "# Submission\n",
    "1. Create a new branch named 22-checkpoint within your practicals GitHub repository\n",
    "2. Create a new pull request and assign Grayson-Orr to review your submission\n",
    "\n",
    "**Note:** Please don't merge your own pull request."
   ]
  }
 ],
 "metadata": {
  "kernelspec": {
   "display_name": "Python 3",
   "language": "python",
   "name": "python3"
  },
  "language_info": {
   "codemirror_mode": {
    "name": "ipython",
    "version": 3
   },
   "file_extension": ".py",
   "mimetype": "text/x-python",
   "name": "python",
   "nbconvert_exporter": "python",
   "pygments_lexer": "ipython3",
   "version": "3.7.5"
  }
 },
 "nbformat": 4,
 "nbformat_minor": 2
}
